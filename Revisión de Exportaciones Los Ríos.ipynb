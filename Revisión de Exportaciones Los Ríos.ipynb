{
 "cells": [
  {
   "cell_type": "markdown",
   "source": [
    "## IMPORTANTE !\n",
    "\n",
    "La estructura de las carpetas para correr este jupyter notebook debe ser la siguiente. Debe crearse una carpeta llamada \"Datos Comerciales\" dentro de la cual habrá una carpeta para las \"Exportaciones\", en esta existirán carpetas para todos los años disponibles en las cuales los archivos descargados del [repositorio de datos de aduanas](https://datos.gob.cl/organization/servicio_nacional_de_aduanas) deberán abrirse en MS Excel y ser guardados con el nombre del mes en formato .csv. Cualquier cambio a esta forma de estructurar los directorios deberá ser concordante y reflejado en las funciones `create_region_csvs()` y `create_chile_csvs()`.\n",
    "<br>\n",
    "<img src=\"./images/Carpetas.png\">\n",
    "<br>\n",
    "\n",
    "<img src=\"./images/Carpetas2.png\">"
   ],
   "metadata": {
    "collapsed": false,
    "pycharm": {
     "name": "#%% md\n"
    }
   }
  },
  {
   "cell_type": "markdown",
   "source": [
    "# ¿Qué es el RCA?\n",
    "Se han usado medidas de ventaja comparativa revelada (RCA) para ayudar a evaluar el potencial de exportación de un país. La RCA indica si un país está en proceso de ampliar los productos en los que tiene potencial comercial, en contraposición a situaciones en las que el número de productos que se pueden exportar de manera competitiva es estático. También puede aportar información útil acerca de posibles perspectivas comerciales con nuevos asociados.En este caso no se analizará a nivel de paises sino de regiones.\n",
    "\n",
    "\n",
    "<br>\n",
    "$ RCAe =  ln\\left [ \\left ( \\frac{X_{ij}}{X_{it}} \\right )/\\left ( \\frac{X_{im}}{X_{tm}} \\right ) \\right ] $\n",
    "\n",
    "Donde:\n",
    "* $X_{ij}$ - Corresponde a las exportaciones del producto $i$ en la región $j$\n",
    "* $X_{tj}$ - Corresponde a las exportaciones totales en la región $j$\n",
    "* $X_{im}$ - Corresponde a las exportaciones del producto $i$ en la región $j$\n",
    "* $X_{tm}$ - Corresponde a las exportaciones totales del mundo\n",
    "\n",
    "<br>\n",
    "\n",
    "El contenido de este documento busca calcular el RCA de los prodcutos exportados por la Región de los Ríos por lo que la formula queda de la siguiente forma.\n",
    "<br>\n",
    "$ RCAe =  ln\\left [ \\left ( \\frac{X_{ij}}{X_{it}} \\right )/\\left ( \\frac{X_{ip}}{X_{tp}} \\right ) \\right ] $\n",
    "\n",
    "Donde:\n",
    "\n",
    "* $X_{ij}$ - Corresponde a las exportaciones del producto $i$ en Los Ríos\n",
    "* $X_{tj}$ - Corresponde a las exportaciones totales en Los Ríos\n",
    "* $X_{ip}$ - Corresponde a las exportaciones del producto $i$ en Chile\n",
    "* $X_{tp}$ - Corresponde a las exportaciones totales de Chile\n"
   ],
   "metadata": {
    "collapsed": false
   }
  },
  {
   "cell_type": "markdown",
   "source": [
    "## Definición de funciones que ayudarán al analisis\n",
    "***\n",
    "- `create_region_csvs()` : Función que se mueve por los directorios dentro de la carpeta \"Exportaciones\" filtrando los datos de aduanas solo dejando las columnas relevantes para los registros en donde la comuna reportada por el exportador comuna a una perteneciente a la región de Los Ríos (Códigos entre 14000 y 15000), creando para cada archivo un archivo aparte de la forma {nombre_mes}_LR.csv.\n",
    "***\n",
    "- `create_chile_csvs()` : Función que se mueve por los directorios dentro de la carpeta \"Exportaciones\" filtrando los datos de aduanas solo dejando las columnas relevantes para los registros en donde la comuna reportada por el exportador comuna a una perteneciente a la región de Los Ríos (Códigos entre 14000 y 15000), creando para cada archivo un archivo aparte de la forma {nombre_mes}_LR.csv.\n",
    "***\n",
    "- `unify_df` : Función que tiene por entrada el código de archivos a unificar, los cuales en este caso podrán ser \"LR\" o \"CL\" correspondientes a los codigos distintivos de los archivos creados por `create_region_csvs()` y `create_chile_csvs()` , esta función unifica los registros de todos los años y meses en un solo archivo llamado exp_{distintivo}.csv\n",
    "***\n",
    "- `prepare_df` : Función que tiene por entrada un dataframe generado por alguno de los archivos resultantes de la función `unify_df`, los cuales son preprocesados cambiando tipos de variables y nombres de columnas.\n",
    "***\n",
    "- `create_df` : Función que tiene por entrada el dataframe gnerado por `prepare_df` el cual es reagrupado para poder ser input de la función `filter_df`.\n",
    "***\n",
    "- `filter_df` : Función que filtra en el archivo de las exportaciones nacionales todos los códigos arancelarios exportados por Los Ríos para los años correspondientes de su exportación, agrupando las exportaciones anuales de cada articulo y realizando una sumatoria de sus valores en FOB.\n",
    "***\n",
    "- `final_df` : Funcion que calcula los totales exportados por la región y el país para cada año para poder aplicar la formula del RCAe y asignar los valores en una columna. Posterior a este calculo procede a agrupar los Códigos Arancelarios por Sección arancelaria la cual está disponible en [el sitio web de Aduanas](https://www.aduana.cl/arancel-aduanero-vigente/aduana/2016-12-30/090118.html).\n",
    "***\n",
    "- `rca_frecuency` : Tiene como inputs los dataframes que contienen la suma de articulos con RCAe deficiente y otro con la suma de articulos con RCAe competitivo por año y sección arancelaria,\n",
    "***"
   ],
   "metadata": {
    "collapsed": false
   }
  },
  {
   "cell_type": "markdown",
   "source": [
    "## Lógica:\n",
    "\n",
    "<img src=\"./images/logica.png\" width=\"1200\">"
   ],
   "metadata": {
    "collapsed": false,
    "pycharm": {
     "name": "#%% md\n"
    }
   }
  },
  {
   "cell_type": "markdown",
   "source": [
    "# Análisis y calculos de RCAe para cada año y articulo exportado desde Los Ríos."
   ],
   "metadata": {
    "collapsed": false,
    "pycharm": {
     "name": "#%% md\n"
    }
   }
  },
  {
   "cell_type": "code",
   "execution_count": 1,
   "outputs": [],
   "source": [
    "import pandas as pd\n",
    "import math"
   ],
   "metadata": {
    "collapsed": false,
    "pycharm": {
     "name": "#%%\n"
    }
   }
  },
  {
   "cell_type": "code",
   "execution_count": 2,
   "outputs": [],
   "source": [
    "meses = [\"Enero\", \"Febrero\", \"Marzo\", \"Abril\",\"Mayo\",\"Junio\",\"Julio\",\"Agosto\",\"Septiembre\",\"Octubre\",\"Noviembre\",\"Diciembre\"]\n",
    "años = {\n",
    "    2010:meses,\n",
    "    2011:meses,\n",
    "    2012:meses,\n",
    "    2013:meses,\n",
    "    2014:meses,\n",
    "    2015:meses,\n",
    "    2016:meses,\n",
    "    2017:meses,\n",
    "    2018:meses,\n",
    "    2019:meses,\n",
    "    2020:meses,\n",
    "    2021:meses\n",
    "}"
   ],
   "metadata": {
    "collapsed": false,
    "pycharm": {
     "name": "#%%\n"
    }
   }
  },
  {
   "cell_type": "code",
   "execution_count": 3,
   "outputs": [],
   "source": [
    "def create_region_csvs(codigos_region,region):\n",
    "    for key in años:\n",
    "        for mes in años[key]:\n",
    "            base_path = 'Datos comerciales/Exportaciones'\n",
    "            initial_path = '{}/{}/{}.csv'.format(base_path,key,mes)\n",
    "            df = pd.read_csv(initial_path,low_memory=False)\n",
    "            columns = ['Column1','Column8','Column70','Column74']\n",
    "            df = df.loc[:, columns]\n",
    "            mask = (df['Column8']>=codigos_region[0])&(df['Column8']<=codigos_region[1])\n",
    "            df = df[mask]\n",
    "            final_path = '{}/{}/{}_{}.csv'.format(base_path,key,mes,region)\n",
    "            df[\"Column1\"] = str(key)\n",
    "            df.rename({\"Column1\": \"FECHA\", \"Column8\": \"COMUNA\",\"Column70\": \"CODIGO_ARANCEL\",\"Column74\": \"FOB_US\"},axis='columns')\n",
    "            df.to_csv(final_path,encoding='utf-8')"
   ],
   "metadata": {
    "collapsed": false,
    "pycharm": {
     "name": "#%%\n"
    }
   }
  },
  {
   "cell_type": "code",
   "execution_count": 4,
   "outputs": [],
   "source": [
    "def create_chile_csvs():\n",
    "    for key in años:\n",
    "        for mes in años[key]:\n",
    "            base_path = 'Datos comerciales/Exportaciones'\n",
    "            initial_path = '{}/{}/{}.csv'.format(base_path,key,mes)\n",
    "            df = pd.read_csv(initial_path,low_memory=False)\n",
    "            columns = ['Column1','Column8','Column70','Column74']\n",
    "            df = df.loc[:, columns]\n",
    "            final_path = '{}/{}/{}_CL.csv'.format(base_path,key,mes)\n",
    "            df[\"Column1\"] = str(key)\n",
    "            df.rename({\"Column1\": \"FECHA\", \"Column8\": \"COMUNA\",\"Column70\": \"CODIGO_ARANCEL\",\"Column74\": \"FOB_US\"},axis='columns')\n",
    "            df.to_csv(final_path,encoding='utf-8')\n"
   ],
   "metadata": {
    "collapsed": false,
    "pycharm": {
     "name": "#%%\n"
    }
   }
  },
  {
   "cell_type": "code",
   "execution_count": 5,
   "outputs": [],
   "source": [
    "def unify_dfs(identificador):\n",
    "    frames = []\n",
    "    for key in años:\n",
    "        for mes in años[key]:\n",
    "            base_path = 'Datos comerciales/Exportaciones'\n",
    "            initial_path = '{}/{}/{}_{}.csv'.format(base_path,key,mes,identificador)\n",
    "            df = pd.read_csv(initial_path)\n",
    "            frames.append(df)\n",
    "\n",
    "    df_final= pd.concat(frames)\n",
    "    df_final.to_csv(\"exp_{}.csv\".format(identificador),index=False)"
   ],
   "metadata": {
    "collapsed": false,
    "pycharm": {
     "name": "#%%\n"
    }
   }
  },
  {
   "cell_type": "code",
   "execution_count": 6,
   "outputs": [],
   "source": [
    "def prepare_df(df):\n",
    "    df.drop(columns=df.columns[0], axis=1, inplace=True)\n",
    "    # En caso de que las columnas con numeros que representan codigos hayan sido leido como numeros con decimales\n",
    "    # Estos son transformados y preparados para su correcto uso\n",
    "    df[\"Column8\"] = df[\"Column8\"].astype(str)\n",
    "    df[\"Column8\"] = df[\"Column8\"].apply(lambda row: row.split('.')[0])\n",
    "    df[\"Column70\"] = df[\"Column70\"].astype(str)\n",
    "    df[\"Column70\"] = df[\"Column70\"].apply(lambda row: row.split('.')[0])\n",
    "    df[\"Column74\"] = df[\"Column74\"].astype(str)\n",
    "    df[\"Column74\"] = df[\"Column74\"].apply(lambda row: row.replace(',', '.'))\n",
    "    df[\"Column74\"] = df[\"Column74\"].astype(float)\n",
    "    # Se renombran las columnas según los codigos que _lrentrega Aduanas\n",
    "    df.rename(columns={'Column1': 'Fecha', 'Column8': 'Cod_Comuna', 'Column70': 'Cod_Arancelario', 'Column74': 'FOB_USD'},inplace=True)\n",
    "    df_group = df.groupby(['Fecha', 'Cod_Arancelario']).agg({'FOB_USD': 'sum'})\n",
    "    return df_group"
   ],
   "metadata": {
    "collapsed": false,
    "pycharm": {
     "name": "#%%\n"
    }
   }
  },
  {
   "cell_type": "code",
   "execution_count": 7,
   "outputs": [],
   "source": [
    "def create_df(df_suma):\n",
    "    d={}\n",
    "    i=0\n",
    "    for index, row in df_suma.iterrows():\n",
    "        d[i] = [index[0],index[1],int(row)]\n",
    "        i += 1\n",
    "    df = pd.DataFrame.from_dict(d, orient='index',columns=[\"Año Comercial\",\"Codigo Arancelario\",\"FOB_USD\"])\n",
    "    return df"
   ],
   "metadata": {
    "collapsed": false,
    "pycharm": {
     "name": "#%%\n"
    }
   }
  },
  {
   "cell_type": "code",
   "execution_count": 8,
   "outputs": [],
   "source": [
    "def filter_df(df,dict):\n",
    "    dfs_list = []\n",
    "    for key in dict:\n",
    "        df_year_filtered = df[df[\"Fecha\"]==key]\n",
    "        df_codes_filtered = df_year_filtered[df_year_filtered[\"Cod_Arancelario\"].isin(dict[key])]\n",
    "        dfs_list.append(df_codes_filtered)\n",
    "    df_final = pd.concat(dfs_list)\n",
    "    df_final = df_final.drop(['Cod_Comuna'], axis=1)\n",
    "    df_final_group = df_final.groupby(['Fecha','Cod_Arancelario']).agg({'FOB_USD': 'sum'})\n",
    "    return df_final_group"
   ],
   "metadata": {
    "collapsed": false,
    "pycharm": {
     "name": "#%%\n"
    }
   }
  },
  {
   "cell_type": "code",
   "execution_count": 9,
   "outputs": [],
   "source": [
    "def final_df(merged_filtered_df):\n",
    "\n",
    "    for index, value in merged_filtered_df.iterrows():\n",
    "        # Se calcula el total en FOB de exportaciones de la región para el año de cada registro\n",
    "        total_exp_region = merged_filtered_df.loc[merged_filtered_df['Año Comercial'] == value[\"Año Comercial\"], 'FOB_USD_LR'].sum()\n",
    "        # Se calcula el total en FOB de exportaciones  del pais para el año de cada registro\n",
    "        total_exp_pais = merged_filtered_df.loc[merged_filtered_df['Año Comercial'] == value[\"Año Comercial\"], 'FOB_USD_CL'].sum()\n",
    "        # Se calculan las divisiones de la formula del RCAe\n",
    "        pre_RCAe = float((value[\"FOB_USD_LR\"]/total_exp_region)/(value[\"FOB_USD_CL\"]/total_exp_pais))\n",
    "        # Si el valor es mayor a 0 se le aplica el log al valor, asignando el resultado en una columna definida como RCAe\n",
    "        if pre_RCAe>0:\n",
    "            merged_filtered_df.loc[index,\"RCAe\"] = math.log(pre_RCAe)\n",
    "        # De manera contraria se asigna a la columna RCAe el valor de 0, no se aplica el log debido a su indefinición en 0\n",
    "        else:\n",
    "            merged_filtered_df.loc[index,\"RCAe\"] = 0\n",
    "\n",
    "    # Se divide en 1M el código arancelario dejando de esta manera los primeros 2 digitos con los que luego se pueden agrupar en secciones\n",
    "    merged_filtered_df[\"Codigo Arancelario\"] = merged_filtered_df[\"Codigo Arancelario\"].astype(float)\n",
    "    merged_filtered_df[\"GRUPO\"] = merged_filtered_df[\"Codigo Arancelario\"]/1000000\n",
    "    merged_filtered_df[\"Codigo Arancelario\"] = merged_filtered_df[\"Codigo Arancelario\"].astype(str)\n",
    "\n",
    "    # Se redonde ael valor de la división anterior\n",
    "    for index, value in merged_filtered_df.iterrows():\n",
    "        merged_filtered_df.loc[index,\"GRUPO\"] = str(math.floor(value[\"GRUPO\"]))\n",
    "\n",
    "    # Se clasifican los resultados según la sección arancelaria a la que correspondan.\n",
    "    for index, value in merged_filtered_df.iterrows():\n",
    "        valor = math.floor(float(value[\"GRUPO\"]))\n",
    "        if valor>=0 and valor<=5:\n",
    "            merged_filtered_df.loc[index,\"Seccion\"] = \"1\"\n",
    "        if valor>=6 and valor<=14:\n",
    "            merged_filtered_df.loc[index,\"Seccion\"] = \"2\"\n",
    "        if valor==15:\n",
    "            merged_filtered_df.loc[index,\"Seccion\"] = \"3\"\n",
    "        if valor>=16 and valor<=24:\n",
    "            merged_filtered_df.loc[index,\"Seccion\"] = \"4\"\n",
    "        if valor>=25 and valor<=27:\n",
    "            merged_filtered_df.loc[index,\"Seccion\"] = \"5\"\n",
    "        if valor>=28 and valor<=38:\n",
    "            merged_filtered_df.loc[index,\"Seccion\"] = \"6\"\n",
    "        if valor>=39 and valor<=40:\n",
    "            merged_filtered_df.loc[index,\"Seccion\"] = \"7\"\n",
    "        if valor>=41 and valor<=43:\n",
    "            merged_filtered_df.loc[index,\"Seccion\"] = \"8\"\n",
    "        if valor>=44 and valor<=46:\n",
    "            merged_filtered_df.loc[index,\"Seccion\"] = \"9\"\n",
    "        if valor>=47 and valor<=49:\n",
    "            merged_filtered_df.loc[index,\"Seccion\"] = \"10\"\n",
    "        if valor>=50 and valor<=63:\n",
    "            merged_filtered_df.loc[index,\"Seccion\"] = \"11\"\n",
    "        if valor>=64 and valor<=67:\n",
    "            merged_filtered_df.loc[index,\"Seccion\"] = \"12\"\n",
    "        if valor>=68 and valor<=70:\n",
    "            merged_filtered_df.loc[index,\"Seccion\"] = \"13\"\n",
    "        if valor==71:\n",
    "            merged_filtered_df.loc[index,\"Seccion\"] = \"14\"\n",
    "        if valor>=72 and valor<=83:\n",
    "            merged_filtered_df.loc[index,\"Seccion\"] = \"15\"\n",
    "        if valor>=84 and valor<=85:\n",
    "            merged_filtered_df.loc[index,\"Seccion\"] = \"16\"\n",
    "        if valor>=86and valor<=89:\n",
    "            merged_filtered_df.loc[index,\"Seccion\"] = \"17\"\n",
    "        if valor>=90 and valor<=92:\n",
    "            merged_filtered_df.loc[index,\"Seccion\"] = \"18\"\n",
    "        if valor==93:\n",
    "            merged_filtered_df.loc[index,\"Seccion\"] = \"19\"\n",
    "        if valor>=94 and valor<=96:\n",
    "            merged_filtered_df.loc[index,\"Seccion\"] = \"20\"\n",
    "        if valor>=97 and valor<=99:\n",
    "            merged_filtered_df.loc[index,\"Seccion\"] = \"21\"\n",
    "\n",
    "    # Se elimina la columna generada anteriormente\n",
    "    merged_filtered_df=merged_filtered_df.drop(columns=['GRUPO'])\n",
    "    # Se redondean los valores del RCAe a un solo decimal\n",
    "    merged_filtered_df[\"RCAe\"] = merged_filtered_df[\"RCAe\"].round(1)\n",
    "    merged_filtered_df[\"Codigo Arancelario\"] = merged_filtered_df[\"Codigo Arancelario\"].str[:-2]\n",
    "    return merged_filtered_df"
   ],
   "metadata": {
    "collapsed": false,
    "pycharm": {
     "name": "#%%\n"
    }
   }
  },
  {
   "cell_type": "code",
   "execution_count": 10,
   "outputs": [],
   "source": [
    "def rca_frecuency(df_bad_rca,df_good_rca):\n",
    "    d={}\n",
    "    año=[]\n",
    "    seccion=[]\n",
    "    bad_rca_count=[]\n",
    "\n",
    "    for i in range(0,len(df_bad_rca.index)):\n",
    "        año.append(df_bad_rca.index[i][0])\n",
    "        seccion.append(df_bad_rca.index[i][1])\n",
    "        bad_rca_count.append(df_bad_rca.iloc[i])\n",
    "\n",
    "    d[\"Año Comercial\"] = año\n",
    "    d[\"Seccion\"] = seccion\n",
    "    d[\"RCA < 1\"] = bad_rca_count\n",
    "    df_bad = pd.DataFrame.from_dict(d)\n",
    "\n",
    "    d={}\n",
    "    año=[]\n",
    "    seccion=[]\n",
    "    good_rca_count=[]\n",
    "\n",
    "    for i in range(0,len(df_good_rca.index)):\n",
    "        año.append(df_good_rca.index[i][0])\n",
    "        seccion.append(df_good_rca.index[i][1])\n",
    "        good_rca_count.append(df_good_rca.iloc[i])\n",
    "\n",
    "    d[\"Año Comercial\"] = año\n",
    "    d[\"Seccion\"] = seccion\n",
    "    d[\"RCA > 1\"] = good_rca_count\n",
    "    df_good = pd.DataFrame.from_dict(d)\n",
    "    df_good = df_good.drop(columns=['Año Comercial','Seccion'])\n",
    "    frecuency_rca = pd.concat([df_bad,df_good], axis=1)\n",
    "\n",
    "    return frecuency_rca"
   ],
   "metadata": {
    "collapsed": false,
    "pycharm": {
     "name": "#%%\n"
    }
   }
  },
  {
   "cell_type": "code",
   "execution_count": 11,
   "outputs": [],
   "source": [
    "create_region_csvs([14000,15000],'LR')\n",
    "create_chile_csvs()"
   ],
   "metadata": {
    "collapsed": false,
    "pycharm": {
     "name": "#%%\n"
    }
   }
  },
  {
   "cell_type": "code",
   "execution_count": 12,
   "outputs": [],
   "source": [
    "unify_dfs('LR')\n",
    "unify_dfs('CL')"
   ],
   "metadata": {
    "collapsed": false,
    "pycharm": {
     "name": "#%%\n"
    }
   }
  },
  {
   "cell_type": "code",
   "execution_count": 13,
   "outputs": [
    {
     "name": "stderr",
     "output_type": "stream",
     "text": [
      "c:\\users\\manue\\appdata\\local\\programs\\python\\python38\\lib\\site-packages\\IPython\\core\\interactiveshell.py:3145: DtypeWarning: Columns (4) have mixed types.Specify dtype option on import or set low_memory=False.\n",
      "  has_raised = await self.run_ast_nodes(code_ast.body, cell_name,\n"
     ]
    }
   ],
   "source": [
    "#-----------------LOS RIOS----------------------#\n",
    "# Se leen los CSVS unificados de exportaciones de Los Ríos\n",
    "df_exportaciones_lr = pd.read_csv(\"exp_lr.csv\")\n",
    "# Se cambian los nombres de columnas y se genera un dataframe groupby\n",
    "df_exportaciones_lr_group = prepare_df(df_exportaciones_lr)\n",
    "# Se crea el dataframe que muestra por año el total en FOB (USD) de exportaciones para c/código registrado como exportado\n",
    "df_final_lr = create_df(df_exportaciones_lr_group)\n",
    "\n",
    "\n",
    "#-----------------CHILE------------------------#\n",
    "# Se leen los CSVS unificados de exportaciones de Chile\n",
    "df_exportaciones_cl = pd.read_csv(\"exp_cl.csv\")\n",
    "# Se cambian los nombres de columnas y se genera un dataframe groupby\n",
    "df_exportaciones_cl_group = prepare_df(df_exportaciones_cl)\n",
    "# Se crea el dataframe que muestra por año el total en FOB (USD) de exportaciones para c/código registrado como exportado\n",
    "df_final_cl = create_df(df_exportaciones_cl_group)"
   ],
   "metadata": {
    "collapsed": false,
    "pycharm": {
     "name": "#%%\n"
    }
   }
  },
  {
   "cell_type": "code",
   "execution_count": 14,
   "outputs": [
    {
     "data": {
      "text/plain": "       Fecha Cod_Comuna Cod_Arancelario    FOB_USD\n0       2010      14201         4041000    29125.0\n1       2010      14101         3026812   789706.0\n2       2010      14201         4041000    22680.0\n3       2010      14201         4069010  8345796.0\n4       2010      14201         4069010   833601.0\n...      ...        ...             ...        ...\n19000   2021      14101         6011011  5429705.0\n19001   2021      14101         6011011  3067612.0\n19002   2021      14201         4022118   367500.0\n19003   2021      14101         6011011  3374153.0\n19004   2021      14101         6011011  1643273.0\n\n[19005 rows x 4 columns]",
      "text/html": "<div>\n<style scoped>\n    .dataframe tbody tr th:only-of-type {\n        vertical-align: middle;\n    }\n\n    .dataframe tbody tr th {\n        vertical-align: top;\n    }\n\n    .dataframe thead th {\n        text-align: right;\n    }\n</style>\n<table border=\"1\" class=\"dataframe\">\n  <thead>\n    <tr style=\"text-align: right;\">\n      <th></th>\n      <th>Fecha</th>\n      <th>Cod_Comuna</th>\n      <th>Cod_Arancelario</th>\n      <th>FOB_USD</th>\n    </tr>\n  </thead>\n  <tbody>\n    <tr>\n      <th>0</th>\n      <td>2010</td>\n      <td>14201</td>\n      <td>4041000</td>\n      <td>29125.0</td>\n    </tr>\n    <tr>\n      <th>1</th>\n      <td>2010</td>\n      <td>14101</td>\n      <td>3026812</td>\n      <td>789706.0</td>\n    </tr>\n    <tr>\n      <th>2</th>\n      <td>2010</td>\n      <td>14201</td>\n      <td>4041000</td>\n      <td>22680.0</td>\n    </tr>\n    <tr>\n      <th>3</th>\n      <td>2010</td>\n      <td>14201</td>\n      <td>4069010</td>\n      <td>8345796.0</td>\n    </tr>\n    <tr>\n      <th>4</th>\n      <td>2010</td>\n      <td>14201</td>\n      <td>4069010</td>\n      <td>833601.0</td>\n    </tr>\n    <tr>\n      <th>...</th>\n      <td>...</td>\n      <td>...</td>\n      <td>...</td>\n      <td>...</td>\n    </tr>\n    <tr>\n      <th>19000</th>\n      <td>2021</td>\n      <td>14101</td>\n      <td>6011011</td>\n      <td>5429705.0</td>\n    </tr>\n    <tr>\n      <th>19001</th>\n      <td>2021</td>\n      <td>14101</td>\n      <td>6011011</td>\n      <td>3067612.0</td>\n    </tr>\n    <tr>\n      <th>19002</th>\n      <td>2021</td>\n      <td>14201</td>\n      <td>4022118</td>\n      <td>367500.0</td>\n    </tr>\n    <tr>\n      <th>19003</th>\n      <td>2021</td>\n      <td>14101</td>\n      <td>6011011</td>\n      <td>3374153.0</td>\n    </tr>\n    <tr>\n      <th>19004</th>\n      <td>2021</td>\n      <td>14101</td>\n      <td>6011011</td>\n      <td>1643273.0</td>\n    </tr>\n  </tbody>\n</table>\n<p>19005 rows × 4 columns</p>\n</div>"
     },
     "execution_count": 14,
     "metadata": {},
     "output_type": "execute_result"
    }
   ],
   "source": [
    "df_exportaciones_lr"
   ],
   "metadata": {
    "collapsed": false,
    "pycharm": {
     "name": "#%%\n"
    }
   }
  },
  {
   "cell_type": "code",
   "execution_count": 15,
   "outputs": [],
   "source": [
    "# Se crea un diccionario que contenga por año cada tipo de producto exportado desde Los Ríos por su código arancelario para ser usado como filtro posteriormente\n",
    "\n",
    "years_dict={\n",
    "    2010:list(df_final_lr[df_final_lr[\"Año Comercial\"]==2010][\"Codigo Arancelario\"]),\n",
    "    2011:list(df_final_lr[df_final_lr[\"Año Comercial\"]==2011][\"Codigo Arancelario\"]),\n",
    "    2012:list(df_final_lr[df_final_lr[\"Año Comercial\"]==2012][\"Codigo Arancelario\"]),\n",
    "    2013:list(df_final_lr[df_final_lr[\"Año Comercial\"]==2013][\"Codigo Arancelario\"]),\n",
    "    2014:list(df_final_lr[df_final_lr[\"Año Comercial\"]==2014][\"Codigo Arancelario\"]),\n",
    "    2015:list(df_final_lr[df_final_lr[\"Año Comercial\"]==2015][\"Codigo Arancelario\"]),\n",
    "    2016:list(df_final_lr[df_final_lr[\"Año Comercial\"]==2016][\"Codigo Arancelario\"]),\n",
    "    2017:list(df_final_lr[df_final_lr[\"Año Comercial\"]==2017][\"Codigo Arancelario\"]),\n",
    "    2018:list(df_final_lr[df_final_lr[\"Año Comercial\"]==2018][\"Codigo Arancelario\"]),\n",
    "    2019:list(df_final_lr[df_final_lr[\"Año Comercial\"]==2019][\"Codigo Arancelario\"]),\n",
    "    2020:list(df_final_lr[df_final_lr[\"Año Comercial\"]==2020][\"Codigo Arancelario\"]),\n",
    "    2021:list(df_final_lr[df_final_lr[\"Año Comercial\"]==2021][\"Codigo Arancelario\"]),\n",
    "}"
   ],
   "metadata": {
    "collapsed": false,
    "pycharm": {
     "name": "#%%\n"
    }
   }
  },
  {
   "cell_type": "code",
   "execution_count": 16,
   "outputs": [
    {
     "data": {
      "text/plain": "                            FOB_USD\nFecha Cod_Arancelario              \n2010  1019011          2.302353e+06\n      16059099         5.701207e+08\n      19019011         2.407464e+08\n      20089990         6.306142e+07\n      20098020         5.695079e+08\n...                             ...\n2021  85444200         7.023149e+07\n      90158000         1.272206e+08\n      90178000         3.935102e+06\n      90303100         8.640472e+06\n      96200000         5.959130e+05\n\n[935 rows x 1 columns]",
      "text/html": "<div>\n<style scoped>\n    .dataframe tbody tr th:only-of-type {\n        vertical-align: middle;\n    }\n\n    .dataframe tbody tr th {\n        vertical-align: top;\n    }\n\n    .dataframe thead th {\n        text-align: right;\n    }\n</style>\n<table border=\"1\" class=\"dataframe\">\n  <thead>\n    <tr style=\"text-align: right;\">\n      <th></th>\n      <th></th>\n      <th>FOB_USD</th>\n    </tr>\n    <tr>\n      <th>Fecha</th>\n      <th>Cod_Arancelario</th>\n      <th></th>\n    </tr>\n  </thead>\n  <tbody>\n    <tr>\n      <th rowspan=\"5\" valign=\"top\">2010</th>\n      <th>1019011</th>\n      <td>2.302353e+06</td>\n    </tr>\n    <tr>\n      <th>16059099</th>\n      <td>5.701207e+08</td>\n    </tr>\n    <tr>\n      <th>19019011</th>\n      <td>2.407464e+08</td>\n    </tr>\n    <tr>\n      <th>20089990</th>\n      <td>6.306142e+07</td>\n    </tr>\n    <tr>\n      <th>20098020</th>\n      <td>5.695079e+08</td>\n    </tr>\n    <tr>\n      <th>...</th>\n      <th>...</th>\n      <td>...</td>\n    </tr>\n    <tr>\n      <th rowspan=\"5\" valign=\"top\">2021</th>\n      <th>85444200</th>\n      <td>7.023149e+07</td>\n    </tr>\n    <tr>\n      <th>90158000</th>\n      <td>1.272206e+08</td>\n    </tr>\n    <tr>\n      <th>90178000</th>\n      <td>3.935102e+06</td>\n    </tr>\n    <tr>\n      <th>90303100</th>\n      <td>8.640472e+06</td>\n    </tr>\n    <tr>\n      <th>96200000</th>\n      <td>5.959130e+05</td>\n    </tr>\n  </tbody>\n</table>\n<p>935 rows × 1 columns</p>\n</div>"
     },
     "execution_count": 16,
     "metadata": {},
     "output_type": "execute_result"
    }
   ],
   "source": [
    "df_exportaciones_cl_filtered = filter_df(df_exportaciones_cl,years_dict)\n",
    "df_exportaciones_cl_filtered"
   ],
   "metadata": {
    "collapsed": false,
    "pycharm": {
     "name": "#%%\n"
    }
   }
  },
  {
   "cell_type": "code",
   "execution_count": 17,
   "outputs": [],
   "source": [
    "df_final_cl = create_df(df_exportaciones_cl_filtered)\n",
    "# Eliminación de columnas de año comercial y codigo arancelario para que no se repitan una vez se junten los dataframes de Los Rïos y Chile.\n",
    "df_final_cl = df_final_cl.drop(columns=['Año Comercial','Codigo Arancelario'])\n",
    "# Se renombran las columnas\n",
    "df_final_cl = df_final_cl.rename(columns={\"FOB_USD\": \"FOB_USD_CL\"})\n",
    "df_final_lr = df_final_lr.rename(columns={\"FOB_USD\": \"FOB_USD_LR\"})\n",
    "# Concatenación de daframes de Los Ríos y Nacional\n",
    "merged_dfs = pd.concat([df_final_lr, df_final_cl], axis=1, join=\"inner\")"
   ],
   "metadata": {
    "collapsed": false,
    "pycharm": {
     "name": "#%%\n"
    }
   }
  },
  {
   "cell_type": "code",
   "execution_count": 18,
   "outputs": [
    {
     "data": {
      "text/plain": "     Año Comercial Codigo Arancelario  FOB_USD_LR  FOB_USD_CL  RCAe Seccion\n0             2010            1019011       20000     2302353  -0.8       1\n1             2010           16059099    16570500   570120664   0.4       4\n2             2010           19019011      570632   240746425  -2.1       4\n3             2010           20089990    22339781    63061421   2.9       4\n4             2010           20098020   149998748   569507905   2.6       4\n..             ...                ...         ...         ...   ...     ...\n930           2021           85444200       38237    70231486  -3.9      16\n931           2021           90158000     2739941   127220633  -0.2      18\n932           2021           90178000     2362055     3935102   3.2      18\n933           2021           90303100       23914     8640472  -2.2      18\n934           2021           96200000       10261      595913  -0.4      20\n\n[935 rows x 6 columns]",
      "text/html": "<div>\n<style scoped>\n    .dataframe tbody tr th:only-of-type {\n        vertical-align: middle;\n    }\n\n    .dataframe tbody tr th {\n        vertical-align: top;\n    }\n\n    .dataframe thead th {\n        text-align: right;\n    }\n</style>\n<table border=\"1\" class=\"dataframe\">\n  <thead>\n    <tr style=\"text-align: right;\">\n      <th></th>\n      <th>Año Comercial</th>\n      <th>Codigo Arancelario</th>\n      <th>FOB_USD_LR</th>\n      <th>FOB_USD_CL</th>\n      <th>RCAe</th>\n      <th>Seccion</th>\n    </tr>\n  </thead>\n  <tbody>\n    <tr>\n      <th>0</th>\n      <td>2010</td>\n      <td>1019011</td>\n      <td>20000</td>\n      <td>2302353</td>\n      <td>-0.8</td>\n      <td>1</td>\n    </tr>\n    <tr>\n      <th>1</th>\n      <td>2010</td>\n      <td>16059099</td>\n      <td>16570500</td>\n      <td>570120664</td>\n      <td>0.4</td>\n      <td>4</td>\n    </tr>\n    <tr>\n      <th>2</th>\n      <td>2010</td>\n      <td>19019011</td>\n      <td>570632</td>\n      <td>240746425</td>\n      <td>-2.1</td>\n      <td>4</td>\n    </tr>\n    <tr>\n      <th>3</th>\n      <td>2010</td>\n      <td>20089990</td>\n      <td>22339781</td>\n      <td>63061421</td>\n      <td>2.9</td>\n      <td>4</td>\n    </tr>\n    <tr>\n      <th>4</th>\n      <td>2010</td>\n      <td>20098020</td>\n      <td>149998748</td>\n      <td>569507905</td>\n      <td>2.6</td>\n      <td>4</td>\n    </tr>\n    <tr>\n      <th>...</th>\n      <td>...</td>\n      <td>...</td>\n      <td>...</td>\n      <td>...</td>\n      <td>...</td>\n      <td>...</td>\n    </tr>\n    <tr>\n      <th>930</th>\n      <td>2021</td>\n      <td>85444200</td>\n      <td>38237</td>\n      <td>70231486</td>\n      <td>-3.9</td>\n      <td>16</td>\n    </tr>\n    <tr>\n      <th>931</th>\n      <td>2021</td>\n      <td>90158000</td>\n      <td>2739941</td>\n      <td>127220633</td>\n      <td>-0.2</td>\n      <td>18</td>\n    </tr>\n    <tr>\n      <th>932</th>\n      <td>2021</td>\n      <td>90178000</td>\n      <td>2362055</td>\n      <td>3935102</td>\n      <td>3.2</td>\n      <td>18</td>\n    </tr>\n    <tr>\n      <th>933</th>\n      <td>2021</td>\n      <td>90303100</td>\n      <td>23914</td>\n      <td>8640472</td>\n      <td>-2.2</td>\n      <td>18</td>\n    </tr>\n    <tr>\n      <th>934</th>\n      <td>2021</td>\n      <td>96200000</td>\n      <td>10261</td>\n      <td>595913</td>\n      <td>-0.4</td>\n      <td>20</td>\n    </tr>\n  </tbody>\n</table>\n<p>935 rows × 6 columns</p>\n</div>"
     },
     "execution_count": 18,
     "metadata": {},
     "output_type": "execute_result"
    }
   ],
   "source": [
    "final_df = final_df(merged_dfs)\n",
    "final_df"
   ],
   "metadata": {
    "collapsed": false,
    "pycharm": {
     "name": "#%%\n"
    }
   }
  },
  {
   "cell_type": "code",
   "execution_count": 19,
   "outputs": [],
   "source": [
    "# Se agrupa el df llamado final_df según Año comercial y Sección arancelaria\n",
    "df_rca_conditional = final_df.groupby(['Año Comercial','Seccion'])\n",
    "# A este df agrupado se le cuentan por grupo (año comercial y sección arancelaria) cuantos articulos por sección tuvieron un RCAe < 1 (poco competitivo)\n",
    "df_bad_rca = df_rca_conditional.apply(lambda x: x[x['RCAe'] < 1 ]['Seccion'].count())\n",
    "# A este df agrupado se le cuentan por grupo (año comercial y sección arancelaria) cuantos articulos por sección tuvieron un RCAe > 1 (competitivo)\n",
    "df_good_rca = df_rca_conditional.apply(lambda x: x[x['RCAe'] > 1 ]['Seccion'].count())"
   ],
   "metadata": {
    "collapsed": false,
    "pycharm": {
     "name": "#%%\n"
    }
   }
  },
  {
   "cell_type": "code",
   "execution_count": 20,
   "outputs": [],
   "source": [
    "df_rca_frecuency = rca_frecuency(df_bad_rca,df_good_rca)"
   ],
   "metadata": {
    "collapsed": false,
    "pycharm": {
     "name": "#%%\n"
    }
   }
  },
  {
   "cell_type": "code",
   "execution_count": 21,
   "outputs": [],
   "source": [
    "df_rca_frecuency.Seccion = df_rca_frecuency.Seccion.astype(float)"
   ],
   "metadata": {
    "collapsed": false,
    "pycharm": {
     "name": "#%%\n"
    }
   }
  },
  {
   "cell_type": "code",
   "execution_count": 22,
   "outputs": [
    {
     "data": {
      "text/plain": "     Año Comercial  Seccion  RCA < 1  RCA > 1\n0             2010      1.0       12        6\n5             2010      2.0       10        2\n7             2010      4.0        3        5\n8             2010      6.0        3        0\n9             2010      8.0        1        0\n..             ...      ...      ...      ...\n142           2021     13.0        1        0\n143           2021     15.0        6        0\n144           2021     16.0       19        1\n145           2021     18.0        2        1\n147           2021     20.0        1        0\n\n[152 rows x 4 columns]",
      "text/html": "<div>\n<style scoped>\n    .dataframe tbody tr th:only-of-type {\n        vertical-align: middle;\n    }\n\n    .dataframe tbody tr th {\n        vertical-align: top;\n    }\n\n    .dataframe thead th {\n        text-align: right;\n    }\n</style>\n<table border=\"1\" class=\"dataframe\">\n  <thead>\n    <tr style=\"text-align: right;\">\n      <th></th>\n      <th>Año Comercial</th>\n      <th>Seccion</th>\n      <th>RCA &lt; 1</th>\n      <th>RCA &gt; 1</th>\n    </tr>\n  </thead>\n  <tbody>\n    <tr>\n      <th>0</th>\n      <td>2010</td>\n      <td>1.0</td>\n      <td>12</td>\n      <td>6</td>\n    </tr>\n    <tr>\n      <th>5</th>\n      <td>2010</td>\n      <td>2.0</td>\n      <td>10</td>\n      <td>2</td>\n    </tr>\n    <tr>\n      <th>7</th>\n      <td>2010</td>\n      <td>4.0</td>\n      <td>3</td>\n      <td>5</td>\n    </tr>\n    <tr>\n      <th>8</th>\n      <td>2010</td>\n      <td>6.0</td>\n      <td>3</td>\n      <td>0</td>\n    </tr>\n    <tr>\n      <th>9</th>\n      <td>2010</td>\n      <td>8.0</td>\n      <td>1</td>\n      <td>0</td>\n    </tr>\n    <tr>\n      <th>...</th>\n      <td>...</td>\n      <td>...</td>\n      <td>...</td>\n      <td>...</td>\n    </tr>\n    <tr>\n      <th>142</th>\n      <td>2021</td>\n      <td>13.0</td>\n      <td>1</td>\n      <td>0</td>\n    </tr>\n    <tr>\n      <th>143</th>\n      <td>2021</td>\n      <td>15.0</td>\n      <td>6</td>\n      <td>0</td>\n    </tr>\n    <tr>\n      <th>144</th>\n      <td>2021</td>\n      <td>16.0</td>\n      <td>19</td>\n      <td>1</td>\n    </tr>\n    <tr>\n      <th>145</th>\n      <td>2021</td>\n      <td>18.0</td>\n      <td>2</td>\n      <td>1</td>\n    </tr>\n    <tr>\n      <th>147</th>\n      <td>2021</td>\n      <td>20.0</td>\n      <td>1</td>\n      <td>0</td>\n    </tr>\n  </tbody>\n</table>\n<p>152 rows × 4 columns</p>\n</div>"
     },
     "execution_count": 22,
     "metadata": {},
     "output_type": "execute_result"
    }
   ],
   "source": [
    "df_rca_frecuency.sort_values(by=['Año Comercial','Seccion'])"
   ],
   "metadata": {
    "collapsed": false,
    "pycharm": {
     "name": "#%%\n"
    }
   }
  },
  {
   "cell_type": "code",
   "execution_count": 23,
   "outputs": [],
   "source": [
    "# Creación de CSV\n",
    "df_rca_frecuency.to_csv('rca_frecuency.csv')\n",
    "# Creación de CSV\n",
    "final_df.to_csv('final_df.csv')\n",
    "final_df[\"Año Comercial\"] = final_df[\"Año Comercial\"].astype(str)"
   ],
   "metadata": {
    "collapsed": false,
    "pycharm": {
     "name": "#%%\n"
    }
   }
  },
  {
   "cell_type": "code",
   "execution_count": 24,
   "outputs": [
    {
     "data": {
      "text/plain": "    Año Comercial Codigo Arancelario  FOB_USD_LR  FOB_USD_CL  RCAe Seccion\n0            2010            1019011       20000     2302353  -0.8       1\n1            2010           16059099    16570500   570120664   0.4       4\n2            2010           19019011      570632   240746425  -2.1       4\n3            2010           20089990    22339781    63061421   2.9       4\n4            2010           20098020   149998748   569507905   2.6       4\n..            ...                ...         ...         ...   ...     ...\n930          2021           85444200       38237    70231486  -3.9      16\n931          2021           90158000     2739941   127220633  -0.2      18\n932          2021           90178000     2362055     3935102   3.2      18\n933          2021           90303100       23914     8640472  -2.2      18\n934          2021           96200000       10261      595913  -0.4      20\n\n[935 rows x 6 columns]",
      "text/html": "<div>\n<style scoped>\n    .dataframe tbody tr th:only-of-type {\n        vertical-align: middle;\n    }\n\n    .dataframe tbody tr th {\n        vertical-align: top;\n    }\n\n    .dataframe thead th {\n        text-align: right;\n    }\n</style>\n<table border=\"1\" class=\"dataframe\">\n  <thead>\n    <tr style=\"text-align: right;\">\n      <th></th>\n      <th>Año Comercial</th>\n      <th>Codigo Arancelario</th>\n      <th>FOB_USD_LR</th>\n      <th>FOB_USD_CL</th>\n      <th>RCAe</th>\n      <th>Seccion</th>\n    </tr>\n  </thead>\n  <tbody>\n    <tr>\n      <th>0</th>\n      <td>2010</td>\n      <td>1019011</td>\n      <td>20000</td>\n      <td>2302353</td>\n      <td>-0.8</td>\n      <td>1</td>\n    </tr>\n    <tr>\n      <th>1</th>\n      <td>2010</td>\n      <td>16059099</td>\n      <td>16570500</td>\n      <td>570120664</td>\n      <td>0.4</td>\n      <td>4</td>\n    </tr>\n    <tr>\n      <th>2</th>\n      <td>2010</td>\n      <td>19019011</td>\n      <td>570632</td>\n      <td>240746425</td>\n      <td>-2.1</td>\n      <td>4</td>\n    </tr>\n    <tr>\n      <th>3</th>\n      <td>2010</td>\n      <td>20089990</td>\n      <td>22339781</td>\n      <td>63061421</td>\n      <td>2.9</td>\n      <td>4</td>\n    </tr>\n    <tr>\n      <th>4</th>\n      <td>2010</td>\n      <td>20098020</td>\n      <td>149998748</td>\n      <td>569507905</td>\n      <td>2.6</td>\n      <td>4</td>\n    </tr>\n    <tr>\n      <th>...</th>\n      <td>...</td>\n      <td>...</td>\n      <td>...</td>\n      <td>...</td>\n      <td>...</td>\n      <td>...</td>\n    </tr>\n    <tr>\n      <th>930</th>\n      <td>2021</td>\n      <td>85444200</td>\n      <td>38237</td>\n      <td>70231486</td>\n      <td>-3.9</td>\n      <td>16</td>\n    </tr>\n    <tr>\n      <th>931</th>\n      <td>2021</td>\n      <td>90158000</td>\n      <td>2739941</td>\n      <td>127220633</td>\n      <td>-0.2</td>\n      <td>18</td>\n    </tr>\n    <tr>\n      <th>932</th>\n      <td>2021</td>\n      <td>90178000</td>\n      <td>2362055</td>\n      <td>3935102</td>\n      <td>3.2</td>\n      <td>18</td>\n    </tr>\n    <tr>\n      <th>933</th>\n      <td>2021</td>\n      <td>90303100</td>\n      <td>23914</td>\n      <td>8640472</td>\n      <td>-2.2</td>\n      <td>18</td>\n    </tr>\n    <tr>\n      <th>934</th>\n      <td>2021</td>\n      <td>96200000</td>\n      <td>10261</td>\n      <td>595913</td>\n      <td>-0.4</td>\n      <td>20</td>\n    </tr>\n  </tbody>\n</table>\n<p>935 rows × 6 columns</p>\n</div>"
     },
     "execution_count": 24,
     "metadata": {},
     "output_type": "execute_result"
    }
   ],
   "source": [
    "final_df"
   ],
   "metadata": {
    "collapsed": false,
    "pycharm": {
     "name": "#%%\n"
    }
   }
  },
  {
   "cell_type": "code",
   "execution_count": 25,
   "outputs": [],
   "source": [
    "# Creación de JSON el cual será desplegado en el DSS luego de ser procesado para ello con un script de JavaScript\n",
    "json_output = final_df.to_json(path_or_buf=\"json_RCA.json\",orient=\"records\")"
   ],
   "metadata": {
    "collapsed": false,
    "pycharm": {
     "name": "#%%\n"
    }
   }
  },
  {
   "cell_type": "markdown",
   "source": [
    "## Conteo de cantidad de articulos exportados por sección y año con RCAe competitivos y no competitivos"
   ],
   "metadata": {
    "collapsed": false,
    "pycharm": {
     "name": "#%% md\n"
    }
   }
  },
  {
   "cell_type": "code",
   "execution_count": 26,
   "outputs": [],
   "source": [
    "years = [2010,2011,2012,2013,2014,2015,2016,2017,2018,2019,2020,2021]\n",
    "sectors = [\"S1\",\"S2\",\"S3\",\"S4\",\"S5\",\"S6\",\"S7\",\"S8\",\"S9\",\"S10\",\"S11\",\"S12\",\"S13\",\"S14\",\"S15\",\"S16\",\"S17\",\"S18\",\"S19\",\"S20\",\"S21\"]\n",
    "d={}\n",
    "l=[]\n",
    "for year in years:\n",
    "    l=[]\n",
    "    for i in range(0,21):\n",
    "        cond1 = final_df[\"Año Comercial\"] == str(year)\n",
    "        cond2 = final_df[\"Seccion\"]==str(i+1)\n",
    "        temp = final_df[(cond1) & (cond2)]\n",
    "        cant=temp[\"Codigo Arancelario\"].value_counts().sum()\n",
    "        l.append(cant)\n",
    "    d[year]=l"
   ],
   "metadata": {
    "collapsed": false,
    "pycharm": {
     "name": "#%%\n"
    }
   }
  },
  {
   "cell_type": "code",
   "execution_count": 27,
   "outputs": [],
   "source": [
    "conteo = pd.DataFrame.from_dict(d, orient='index')\n",
    "conteo = pd.DataFrame.from_dict(d, orient='index',columns=sectors)\n",
    "#Creación de CSV\n",
    "conteo.to_csv(\"conteo.csv\")"
   ],
   "metadata": {
    "collapsed": false,
    "pycharm": {
     "name": "#%%\n"
    }
   }
  },
  {
   "cell_type": "code",
   "execution_count": 28,
   "outputs": [
    {
     "data": {
      "text/plain": "      S1  S2  S3  S4  S5  S6  S7  S8  S9  S10  ...  S12  S13  S14  S15  S16  \\\n2010  19  12   0   8   0   3   0   1  17    0  ...    0    0    0    1    7   \n2011  25  15   0  10   0   1   1   3  11    0  ...    0    0    0    0    8   \n2012  23   8   0  15   0   0   1   1   6    4  ...    0    2    0    2    8   \n2013  25   5   0  12   0   1   0   2   5    0  ...    0    1    0    1   13   \n2014  24   6   0  12   0   0   3   2   4    1  ...    0    1    0    4   18   \n2015  23  10   0  12   0   1   1   2   5    0  ...    0    1    0    0   11   \n2016  19   7   0  13   1   1   4   2   6    2  ...    0    2    0    5   12   \n2017  25  13   0  13   0   2   2   3   5    1  ...    0    1    0    2   15   \n2018  23  11   0  16   1   1   3   2   5    1  ...    1    2    0    4    8   \n2019  13  10   0  18   0   1   7   1   5    2  ...    1    1    0    2   13   \n2020  16   6   0  18   0   1   1   0   1    1  ...    0    2    0    0    6   \n2021  14   7   0  15   0   6   6   0   2    0  ...    1    1    0    6   20   \n\n      S17  S18  S19  S20  S21  \n2010    6    1    0    1    0  \n2011    1    0    0    0    0  \n2012    3    1    0    0    0  \n2013    5    1    0    2    0  \n2014    6    0    0    1    0  \n2015    3    0    0    1    0  \n2016    4    2    0    0    0  \n2017    1    4    0    1    0  \n2018    3    1    0    1    0  \n2019    1    4    0    2    0  \n2020    0    0    0    0    0  \n2021    0    3    0    1    0  \n\n[12 rows x 21 columns]",
      "text/html": "<div>\n<style scoped>\n    .dataframe tbody tr th:only-of-type {\n        vertical-align: middle;\n    }\n\n    .dataframe tbody tr th {\n        vertical-align: top;\n    }\n\n    .dataframe thead th {\n        text-align: right;\n    }\n</style>\n<table border=\"1\" class=\"dataframe\">\n  <thead>\n    <tr style=\"text-align: right;\">\n      <th></th>\n      <th>S1</th>\n      <th>S2</th>\n      <th>S3</th>\n      <th>S4</th>\n      <th>S5</th>\n      <th>S6</th>\n      <th>S7</th>\n      <th>S8</th>\n      <th>S9</th>\n      <th>S10</th>\n      <th>...</th>\n      <th>S12</th>\n      <th>S13</th>\n      <th>S14</th>\n      <th>S15</th>\n      <th>S16</th>\n      <th>S17</th>\n      <th>S18</th>\n      <th>S19</th>\n      <th>S20</th>\n      <th>S21</th>\n    </tr>\n  </thead>\n  <tbody>\n    <tr>\n      <th>2010</th>\n      <td>19</td>\n      <td>12</td>\n      <td>0</td>\n      <td>8</td>\n      <td>0</td>\n      <td>3</td>\n      <td>0</td>\n      <td>1</td>\n      <td>17</td>\n      <td>0</td>\n      <td>...</td>\n      <td>0</td>\n      <td>0</td>\n      <td>0</td>\n      <td>1</td>\n      <td>7</td>\n      <td>6</td>\n      <td>1</td>\n      <td>0</td>\n      <td>1</td>\n      <td>0</td>\n    </tr>\n    <tr>\n      <th>2011</th>\n      <td>25</td>\n      <td>15</td>\n      <td>0</td>\n      <td>10</td>\n      <td>0</td>\n      <td>1</td>\n      <td>1</td>\n      <td>3</td>\n      <td>11</td>\n      <td>0</td>\n      <td>...</td>\n      <td>0</td>\n      <td>0</td>\n      <td>0</td>\n      <td>0</td>\n      <td>8</td>\n      <td>1</td>\n      <td>0</td>\n      <td>0</td>\n      <td>0</td>\n      <td>0</td>\n    </tr>\n    <tr>\n      <th>2012</th>\n      <td>23</td>\n      <td>8</td>\n      <td>0</td>\n      <td>15</td>\n      <td>0</td>\n      <td>0</td>\n      <td>1</td>\n      <td>1</td>\n      <td>6</td>\n      <td>4</td>\n      <td>...</td>\n      <td>0</td>\n      <td>2</td>\n      <td>0</td>\n      <td>2</td>\n      <td>8</td>\n      <td>3</td>\n      <td>1</td>\n      <td>0</td>\n      <td>0</td>\n      <td>0</td>\n    </tr>\n    <tr>\n      <th>2013</th>\n      <td>25</td>\n      <td>5</td>\n      <td>0</td>\n      <td>12</td>\n      <td>0</td>\n      <td>1</td>\n      <td>0</td>\n      <td>2</td>\n      <td>5</td>\n      <td>0</td>\n      <td>...</td>\n      <td>0</td>\n      <td>1</td>\n      <td>0</td>\n      <td>1</td>\n      <td>13</td>\n      <td>5</td>\n      <td>1</td>\n      <td>0</td>\n      <td>2</td>\n      <td>0</td>\n    </tr>\n    <tr>\n      <th>2014</th>\n      <td>24</td>\n      <td>6</td>\n      <td>0</td>\n      <td>12</td>\n      <td>0</td>\n      <td>0</td>\n      <td>3</td>\n      <td>2</td>\n      <td>4</td>\n      <td>1</td>\n      <td>...</td>\n      <td>0</td>\n      <td>1</td>\n      <td>0</td>\n      <td>4</td>\n      <td>18</td>\n      <td>6</td>\n      <td>0</td>\n      <td>0</td>\n      <td>1</td>\n      <td>0</td>\n    </tr>\n    <tr>\n      <th>2015</th>\n      <td>23</td>\n      <td>10</td>\n      <td>0</td>\n      <td>12</td>\n      <td>0</td>\n      <td>1</td>\n      <td>1</td>\n      <td>2</td>\n      <td>5</td>\n      <td>0</td>\n      <td>...</td>\n      <td>0</td>\n      <td>1</td>\n      <td>0</td>\n      <td>0</td>\n      <td>11</td>\n      <td>3</td>\n      <td>0</td>\n      <td>0</td>\n      <td>1</td>\n      <td>0</td>\n    </tr>\n    <tr>\n      <th>2016</th>\n      <td>19</td>\n      <td>7</td>\n      <td>0</td>\n      <td>13</td>\n      <td>1</td>\n      <td>1</td>\n      <td>4</td>\n      <td>2</td>\n      <td>6</td>\n      <td>2</td>\n      <td>...</td>\n      <td>0</td>\n      <td>2</td>\n      <td>0</td>\n      <td>5</td>\n      <td>12</td>\n      <td>4</td>\n      <td>2</td>\n      <td>0</td>\n      <td>0</td>\n      <td>0</td>\n    </tr>\n    <tr>\n      <th>2017</th>\n      <td>25</td>\n      <td>13</td>\n      <td>0</td>\n      <td>13</td>\n      <td>0</td>\n      <td>2</td>\n      <td>2</td>\n      <td>3</td>\n      <td>5</td>\n      <td>1</td>\n      <td>...</td>\n      <td>0</td>\n      <td>1</td>\n      <td>0</td>\n      <td>2</td>\n      <td>15</td>\n      <td>1</td>\n      <td>4</td>\n      <td>0</td>\n      <td>1</td>\n      <td>0</td>\n    </tr>\n    <tr>\n      <th>2018</th>\n      <td>23</td>\n      <td>11</td>\n      <td>0</td>\n      <td>16</td>\n      <td>1</td>\n      <td>1</td>\n      <td>3</td>\n      <td>2</td>\n      <td>5</td>\n      <td>1</td>\n      <td>...</td>\n      <td>1</td>\n      <td>2</td>\n      <td>0</td>\n      <td>4</td>\n      <td>8</td>\n      <td>3</td>\n      <td>1</td>\n      <td>0</td>\n      <td>1</td>\n      <td>0</td>\n    </tr>\n    <tr>\n      <th>2019</th>\n      <td>13</td>\n      <td>10</td>\n      <td>0</td>\n      <td>18</td>\n      <td>0</td>\n      <td>1</td>\n      <td>7</td>\n      <td>1</td>\n      <td>5</td>\n      <td>2</td>\n      <td>...</td>\n      <td>1</td>\n      <td>1</td>\n      <td>0</td>\n      <td>2</td>\n      <td>13</td>\n      <td>1</td>\n      <td>4</td>\n      <td>0</td>\n      <td>2</td>\n      <td>0</td>\n    </tr>\n    <tr>\n      <th>2020</th>\n      <td>16</td>\n      <td>6</td>\n      <td>0</td>\n      <td>18</td>\n      <td>0</td>\n      <td>1</td>\n      <td>1</td>\n      <td>0</td>\n      <td>1</td>\n      <td>1</td>\n      <td>...</td>\n      <td>0</td>\n      <td>2</td>\n      <td>0</td>\n      <td>0</td>\n      <td>6</td>\n      <td>0</td>\n      <td>0</td>\n      <td>0</td>\n      <td>0</td>\n      <td>0</td>\n    </tr>\n    <tr>\n      <th>2021</th>\n      <td>14</td>\n      <td>7</td>\n      <td>0</td>\n      <td>15</td>\n      <td>0</td>\n      <td>6</td>\n      <td>6</td>\n      <td>0</td>\n      <td>2</td>\n      <td>0</td>\n      <td>...</td>\n      <td>1</td>\n      <td>1</td>\n      <td>0</td>\n      <td>6</td>\n      <td>20</td>\n      <td>0</td>\n      <td>3</td>\n      <td>0</td>\n      <td>1</td>\n      <td>0</td>\n    </tr>\n  </tbody>\n</table>\n<p>12 rows × 21 columns</p>\n</div>"
     },
     "execution_count": 28,
     "metadata": {},
     "output_type": "execute_result"
    }
   ],
   "source": [
    "conteo"
   ],
   "metadata": {
    "collapsed": false,
    "pycharm": {
     "name": "#%%\n"
    }
   }
  }
 ],
 "metadata": {
  "kernelspec": {
   "display_name": "Python 3",
   "language": "python",
   "name": "python3"
  },
  "language_info": {
   "codemirror_mode": {
    "name": "ipython",
    "version": 2
   },
   "file_extension": ".py",
   "mimetype": "text/x-python",
   "name": "python",
   "nbconvert_exporter": "python",
   "pygments_lexer": "ipython2",
   "version": "2.7.6"
  }
 },
 "nbformat": 4,
 "nbformat_minor": 0
}